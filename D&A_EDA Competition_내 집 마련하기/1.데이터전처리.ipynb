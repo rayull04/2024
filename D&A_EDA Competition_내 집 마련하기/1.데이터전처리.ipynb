{
 "cells": [
  {
   "cell_type": "markdown",
   "metadata": {},
   "source": [
    "## 1. 데이터 불러오기"
   ]
  },
  {
   "cell_type": "code",
   "execution_count": 1,
   "metadata": {},
   "outputs": [],
   "source": [
    "import pandas as pd"
   ]
  },
  {
   "cell_type": "code",
   "execution_count": 2,
   "metadata": {},
   "outputs": [
    {
     "name": "stderr",
     "output_type": "stream",
     "text": [
      "C:\\Users\\user\\AppData\\Local\\Temp\\ipykernel_29808\\3996529006.py:1: DtypeWarning: Columns (7,19,20) have mixed types. Specify dtype option on import or set low_memory=False.\n",
      "  df = pd.read_csv('0. 서울시 부동산 실거래가 정보.csv', encoding='utf-8')\n"
     ]
    }
   ],
   "source": [
    "df = pd.read_csv('0. 서울시 부동산 실거래가 정보.csv', encoding='utf-8')"
   ]
  },
  {
   "cell_type": "code",
   "execution_count": 3,
   "metadata": {},
   "outputs": [
    {
     "name": "stdout",
     "output_type": "stream",
     "text": [
      "<class 'pandas.core.frame.DataFrame'>\n",
      "RangeIndex: 2619094 entries, 0 to 2619093\n",
      "Data columns (total 21 columns):\n",
      " #   Column            Dtype  \n",
      "---  ------            -----  \n",
      " 0   접수연도              int64  \n",
      " 1   자치구코드             int64  \n",
      " 2   자치구명              object \n",
      " 3   법정동코드             int64  \n",
      " 4   법정동명              object \n",
      " 5   지번구분              float64\n",
      " 6   지번구분명             object \n",
      " 7   본번                object \n",
      " 8   부번                float64\n",
      " 9   건물명               object \n",
      " 10  계약일               int64  \n",
      " 11  물건금액(만원)          int64  \n",
      " 12  건물면적(㎡)           float64\n",
      " 13  토지면적(㎡)           float64\n",
      " 14  층                 float64\n",
      " 15  권리구분              object \n",
      " 16  취소일               float64\n",
      " 17  건축년도              float64\n",
      " 18  건물용도              object \n",
      " 19  신고구분              object \n",
      " 20  신고한 개업공인중개사 시군구명  object \n",
      "dtypes: float64(7), int64(5), object(9)\n",
      "memory usage: 419.6+ MB\n"
     ]
    }
   ],
   "source": [
    "df.info()"
   ]
  },
  {
   "cell_type": "markdown",
   "metadata": {},
   "source": [
    "## 2. 데이터 전처리"
   ]
  },
  {
   "cell_type": "markdown",
   "metadata": {},
   "source": [
    "단위 변환 및 열 선택"
   ]
  },
  {
   "cell_type": "code",
   "execution_count": 4,
   "metadata": {},
   "outputs": [
    {
     "data": {
      "text/html": [
       "<div>\n",
       "<style scoped>\n",
       "    .dataframe tbody tr th:only-of-type {\n",
       "        vertical-align: middle;\n",
       "    }\n",
       "\n",
       "    .dataframe tbody tr th {\n",
       "        vertical-align: top;\n",
       "    }\n",
       "\n",
       "    .dataframe thead th {\n",
       "        text-align: right;\n",
       "    }\n",
       "</style>\n",
       "<table border=\"1\" class=\"dataframe\">\n",
       "  <thead>\n",
       "    <tr style=\"text-align: right;\">\n",
       "      <th></th>\n",
       "      <th>자치구명</th>\n",
       "      <th>법정동명</th>\n",
       "      <th>건물명</th>\n",
       "      <th>건축년도</th>\n",
       "      <th>층</th>\n",
       "      <th>건물용도</th>\n",
       "      <th>건물면적</th>\n",
       "      <th>물건금액</th>\n",
       "    </tr>\n",
       "  </thead>\n",
       "  <tbody>\n",
       "    <tr>\n",
       "      <th>0</th>\n",
       "      <td>강남구</td>\n",
       "      <td>역삼동</td>\n",
       "      <td>역삼더빌</td>\n",
       "      <td>2012.0</td>\n",
       "      <td>4.0</td>\n",
       "      <td>연립다세대</td>\n",
       "      <td>3.802425</td>\n",
       "      <td>1.5</td>\n",
       "    </tr>\n",
       "    <tr>\n",
       "      <th>1</th>\n",
       "      <td>강남구</td>\n",
       "      <td>역삼동</td>\n",
       "      <td>역삼더빌</td>\n",
       "      <td>2012.0</td>\n",
       "      <td>4.0</td>\n",
       "      <td>연립다세대</td>\n",
       "      <td>3.802425</td>\n",
       "      <td>1.5</td>\n",
       "    </tr>\n",
       "    <tr>\n",
       "      <th>2</th>\n",
       "      <td>강남구</td>\n",
       "      <td>자곡동</td>\n",
       "      <td>강남블루지움</td>\n",
       "      <td>2017.0</td>\n",
       "      <td>6.0</td>\n",
       "      <td>오피스텔</td>\n",
       "      <td>14.432275</td>\n",
       "      <td>3.7</td>\n",
       "    </tr>\n",
       "    <tr>\n",
       "      <th>3</th>\n",
       "      <td>강남구</td>\n",
       "      <td>자곡동</td>\n",
       "      <td>강남 더샵라르고</td>\n",
       "      <td>2014.0</td>\n",
       "      <td>10.0</td>\n",
       "      <td>오피스텔</td>\n",
       "      <td>7.753075</td>\n",
       "      <td>2.0</td>\n",
       "    </tr>\n",
       "    <tr>\n",
       "      <th>4</th>\n",
       "      <td>강남구</td>\n",
       "      <td>도곡동</td>\n",
       "      <td>도곡렉슬</td>\n",
       "      <td>2006.0</td>\n",
       "      <td>19.0</td>\n",
       "      <td>아파트</td>\n",
       "      <td>25.711895</td>\n",
       "      <td>28.5</td>\n",
       "    </tr>\n",
       "  </tbody>\n",
       "</table>\n",
       "</div>"
      ],
      "text/plain": [
       "  자치구명 법정동명       건물명    건축년도     층   건물용도       건물면적  물건금액\n",
       "0  강남구  역삼동      역삼더빌  2012.0   4.0  연립다세대   3.802425   1.5\n",
       "1  강남구  역삼동      역삼더빌  2012.0   4.0  연립다세대   3.802425   1.5\n",
       "2  강남구  자곡동    강남블루지움  2017.0   6.0   오피스텔  14.432275   3.7\n",
       "3  강남구  자곡동  강남 더샵라르고  2014.0  10.0   오피스텔   7.753075   2.0\n",
       "4  강남구  도곡동      도곡렉슬  2006.0  19.0    아파트  25.711895  28.5"
      ]
     },
     "execution_count": 4,
     "metadata": {},
     "output_type": "execute_result"
    }
   ],
   "source": [
    "# 면적 평 수로 변환\n",
    "df['건물면적'] = df['건물면적(㎡)'].map(lambda x: x*0.3025)\n",
    "\n",
    "# 가격 억으로 변환\n",
    "df['물건금액'] = df['물건금액(만원)'].map(lambda x: x*0.0001)\n",
    "\n",
    "#필요한 열만 선택\n",
    "df=df[['자치구명','법정동명','건물명','건축년도','층','건물용도','건물면적','물건금액']]\n",
    "\n",
    "df.head()"
   ]
  },
  {
   "cell_type": "markdown",
   "metadata": {},
   "source": [
    "결측치 관리"
   ]
  },
  {
   "cell_type": "code",
   "execution_count": 5,
   "metadata": {},
   "outputs": [
    {
     "data": {
      "text/plain": [
       "자치구명         0\n",
       "법정동명         0\n",
       "건물명     207359\n",
       "건축년도      7876\n",
       "층       207308\n",
       "건물용도         0\n",
       "건물면적         0\n",
       "물건금액         0\n",
       "dtype: int64"
      ]
     },
     "execution_count": 5,
     "metadata": {},
     "output_type": "execute_result"
    }
   ],
   "source": [
    "# 새로운 데이터 프레임에 결측치 확인 \n",
    "df.isna().sum()"
   ]
  },
  {
   "cell_type": "code",
   "execution_count": 6,
   "metadata": {},
   "outputs": [
    {
     "data": {
      "text/plain": [
       "array([2012., 2017., 2014., 2006., 2015., 2002., 1992., 2005., 1991.,\n",
       "       1998., 2003., 1997., 1982., 1999.,    0., 1979., 2018., 2013.,\n",
       "       2000., 2004., 2016., 2011., 2019., 1994., 1983., 2020., 1993.,\n",
       "       1980., 2001., 1987., 1990., 2008., 2021., 1985., 2022., 1984.,\n",
       "       1977., 1976., 1988., 1995., 2009., 1978., 2010., 2007., 1996.,\n",
       "       1986., 2023., 1989., 1981., 1974., 1975., 1973., 1900., 1972.,\n",
       "       1971., 1968., 1969., 1967., 1966., 1970., 1962., 1961., 1963.,\n",
       "       1901., 1965., 1964., 1960., 1955., 1958., 1949., 1950., 1959.,\n",
       "       1957., 1945., 1956., 2024., 1941., 1946., 1940., 1928., 1927.,\n",
       "       1933., 1947., 1954., 1908., 1909., 1951., 1944., 1948., 1912.,\n",
       "       1936., 1953., 1952., 1937., 1931., 1943., 1942., 1938., 1939.,\n",
       "       1922., 1915., 1935., 1910., 1932., 1907., 1921., 1934., 1916.,\n",
       "       1929., 1926., 1923., 1930., 1917., 1911., 1905., 1918.,  970.,\n",
       "       1920., 1925., 1914.])"
      ]
     },
     "execution_count": 6,
     "metadata": {},
     "output_type": "execute_result"
    }
   ],
   "source": [
    "#건물명은 결측치값이 분석에 영향을 주지 않아서 처리 하지 않고 진행. \n",
    "#건축년도는 추측할 수 있는 단서가 없으므로 결측치,이상치를 제거한다.\n",
    "df = df.dropna(subset=['건축년도'])\n",
    "\n",
    "#고유값 확인\n",
    "df['건축년도'].unique()"
   ]
  },
  {
   "cell_type": "code",
   "execution_count": 7,
   "metadata": {},
   "outputs": [
    {
     "data": {
      "text/plain": [
       "자치구명         0\n",
       "법정동명         0\n",
       "건물명     202863\n",
       "건축년도         0\n",
       "층       202812\n",
       "건물용도         0\n",
       "건물면적         0\n",
       "물건금액         0\n",
       "dtype: int64"
      ]
     },
     "execution_count": 7,
     "metadata": {},
     "output_type": "execute_result"
    }
   ],
   "source": [
    "#0인 행 제거 \n",
    "df = df[df['건축년도'] != 0]\n",
    "df=df.reset_index(drop=True)\n",
    "\n",
    "#결측치 재확인 \n",
    "df.isna().sum()"
   ]
  },
  {
   "cell_type": "code",
   "execution_count": 8,
   "metadata": {},
   "outputs": [
    {
     "data": {
      "text/plain": [
       "array(['단독다가구'], dtype=object)"
      ]
     },
     "execution_count": 8,
     "metadata": {},
     "output_type": "execute_result"
    }
   ],
   "source": [
    "# 층 결측치 확인 \n",
    "df[df['층'].isna()]['건물용도'].unique()\n",
    "# 이 결측치에 해당하는 건물용도를 확인한 결과 모두 '단독 다가구'이다."
   ]
  },
  {
   "cell_type": "code",
   "execution_count": 9,
   "metadata": {},
   "outputs": [
    {
     "name": "stdout",
     "output_type": "stream",
     "text": [
      "202812\n",
      "202812\n"
     ]
    }
   ],
   "source": [
    "#'층'이 결측값인 행\n",
    "print(len(df[df['층'].isna()]))\n",
    "\n",
    "#'건물용도'가 '단독다가구'인 행\n",
    "print(len(df.query('건물용도==\"단독다가구\"')))\n",
    "\n",
    "# 두 개가 202812개로 동일\n",
    "# 단독 다가구에 대한 층 처리가 안 되어서 결측치가 모두 단독 다가구에 해당. \n",
    "# 단독다가구는 법적으로 3층 이하 건물로 취급. \n",
    "# 따라서 단독다가구에 대한 층을 1층으로 바꿈."
   ]
  },
  {
   "cell_type": "code",
   "execution_count": 10,
   "metadata": {},
   "outputs": [
    {
     "name": "stderr",
     "output_type": "stream",
     "text": [
      "C:\\Users\\user\\AppData\\Local\\Temp\\ipykernel_29808\\1239124027.py:2: FutureWarning: A value is trying to be set on a copy of a DataFrame or Series through chained assignment using an inplace method.\n",
      "The behavior will change in pandas 3.0. This inplace method will never work because the intermediate object on which we are setting values always behaves as a copy.\n",
      "\n",
      "For example, when doing 'df[col].method(value, inplace=True)', try using 'df.method({col: value}, inplace=True)' or df[col] = df[col].method(value) instead, to perform the operation inplace on the original object.\n",
      "\n",
      "\n",
      "  df['층'].fillna(1, inplace=True)\n"
     ]
    },
    {
     "data": {
      "text/plain": [
       "array([ 4.,  6., 10., 19., 11.,  2.,  3.,  7., 15.,  9.,  1., 45.,  8.,\n",
       "       12.,  5., 13., 14., 29., 18., 17., 22., 39., 20., 25., 16., 23.,\n",
       "       24., -1., 30., 26., 50., 21., 49., 41., 46., 55., 54., 58., 53.,\n",
       "       27., 34., 64., 33., 68., 38., 31., 42., 28., 36., 43., 62., 35.,\n",
       "       32., 40., 47., 56., 63., 52., 60., 57., 44., 66., 48., 59., 61.,\n",
       "       67., 51., 37., 65., -2., 69., -3., -4.])"
      ]
     },
     "execution_count": 10,
     "metadata": {},
     "output_type": "execute_result"
    }
   ],
   "source": [
    "# '층'을 1로 채움\n",
    "df['층'].fillna(1, inplace=True)\n",
    "\n",
    "# 인덱스 리셋\n",
    "df=df.reset_index(drop=True)\n",
    "\n",
    "# 고유값 확인. 결측치 사라짐!\n",
    "df['층'].unique()"
   ]
  },
  {
   "cell_type": "code",
   "execution_count": 11,
   "metadata": {},
   "outputs": [
    {
     "data": {
      "text/plain": [
       "자치구명         0\n",
       "법정동명         0\n",
       "건물명     202863\n",
       "건축년도         0\n",
       "층            0\n",
       "건물용도         0\n",
       "건물면적         0\n",
       "물건금액         0\n",
       "dtype: int64"
      ]
     },
     "execution_count": 11,
     "metadata": {},
     "output_type": "execute_result"
    }
   ],
   "source": [
    "#결측치 처리가 모두 완료된 것을 알 수 있음. \n",
    "df.isna().sum()"
   ]
  },
  {
   "cell_type": "code",
   "execution_count": 12,
   "metadata": {},
   "outputs": [
    {
     "data": {
      "text/plain": [
       "array([1.])"
      ]
     },
     "execution_count": 12,
     "metadata": {},
     "output_type": "execute_result"
    }
   ],
   "source": [
    "# 결측치 처리가 잘 되었는지 확인 하기 위한 코드 \n",
    "# 건물용도가 단독다가구인 행의 '층'열 값은?!\n",
    "df[(df['건물용도'] == '단독다가구')]['층'].unique() "
   ]
  },
  {
   "cell_type": "markdown",
   "metadata": {},
   "source": [
    "유용한 열 생성"
   ]
  },
  {
   "cell_type": "code",
   "execution_count": 13,
   "metadata": {},
   "outputs": [],
   "source": [
    "#건축년도를 구분하기 위해 반복문 사용을 사용하여 '건축년도구분'이라는 새로운 열 추가  \n",
    "for i in range(len(df)):\n",
    "    if df.loc[i, '건축년도']<1980:\n",
    "        df.loc[i, '건축년도구분'] = '1979년 이하'\n",
    "    elif df.loc[i, '건축년도']<1990:\n",
    "        df.loc[i, '건축년도구분'] = '1980년대'\n",
    "    elif df.loc[i, '건축년도']<2000:\n",
    "        df.loc[i, '건축년도구분'] = '1990년대'  \n",
    "    elif df.loc[i, '건축년도']<2010:\n",
    "        df.loc[i, '건축년도구분'] = '2000년대'    \n",
    "    elif df.loc[i, '건축년도']<2020:\n",
    "        df.loc[i, '건축년도구분'] = '2010년대'        \n",
    "    else:\n",
    "        df.loc[i, '건축년도구분'] = '2020년대'"
   ]
  },
  {
   "cell_type": "code",
   "execution_count": 14,
   "metadata": {},
   "outputs": [],
   "source": [
    "#층을 구분하기 위해 반복문 사용을 사용하여 '층 구분'이라는 새로운 열을 추가 \n",
    "for i in range(len(df)):\n",
    "    if df.loc[i, '층']<0:\n",
    "        df.loc[i, '층구분'] = '00층 이하'\n",
    "    elif df.loc[i, '층']<=5:\n",
    "        df.loc[i, '층구분'] = '05층이하'\n",
    "    elif df.loc[i, '층']<=10:\n",
    "        df.loc[i, '층구분'] = '10층이하'\n",
    "    elif df.loc[i, '층']<=15:\n",
    "        df.loc[i, '층구분'] = '15층이하'\n",
    "    elif df.loc[i, '층']<=20:\n",
    "        df.loc[i, '층구분'] = '20층이하'\n",
    "    elif df.loc[i, '층']<=30:\n",
    "        df.loc[i, '층구분'] = '30층이하'\n",
    "    elif df.loc[i, '층']<=40:\n",
    "        df.loc[i, '층구분'] = '40층이하'\n",
    "    else:\n",
    "        df.loc[i, '층구분'] = '50층이하'"
   ]
  },
  {
   "cell_type": "code",
   "execution_count": 15,
   "metadata": {},
   "outputs": [],
   "source": [
    "#건물면적을 구분하기 위해 반복문 사용을 사용하여 '건물면적구분'이라는 새로운 열을 추가 \n",
    "for i in range(len(df)):\n",
    "    if df.loc[i, '건물면적']<10:\n",
    "        df.loc[i, '건물면적구분'] = '10평 미만'\n",
    "    elif df.loc[i, '건물면적']<20:\n",
    "        df.loc[i, '건물면적구분'] = '10평대'\n",
    "    elif df.loc[i, '건물면적']<30:\n",
    "        df.loc[i, '건물면적구분'] = '20평대'\n",
    "    elif df.loc[i, '건물면적']<40:\n",
    "        df.loc[i, '건물면적구분'] = '30평대'\n",
    "    elif df.loc[i, '건물면적']<50:\n",
    "        df.loc[i, '건물면적구분'] = '40평대'\n",
    "    elif df.loc[i, '건물면적']<60:\n",
    "        df.loc[i, '건물면적구분'] = '50평대'\n",
    "    else:\n",
    "        df.loc[i, '건물면적구분'] = '60평대 이상'"
   ]
  },
  {
   "cell_type": "code",
   "execution_count": 16,
   "metadata": {},
   "outputs": [],
   "source": [
    "df.columns = df.columns.str.replace(' ', '')\n",
    "file_name = '1. 전처리 후 서울시 부동산 실거래가 정보.csv'\n",
    "df.to_csv(file_name, index=False)"
   ]
  }
 ],
 "metadata": {
  "kernelspec": {
   "display_name": "Python 3",
   "language": "python",
   "name": "python3"
  },
  "language_info": {
   "codemirror_mode": {
    "name": "ipython",
    "version": 3
   },
   "file_extension": ".py",
   "mimetype": "text/x-python",
   "name": "python",
   "nbconvert_exporter": "python",
   "pygments_lexer": "ipython3",
   "version": "3.12.0"
  }
 },
 "nbformat": 4,
 "nbformat_minor": 2
}
